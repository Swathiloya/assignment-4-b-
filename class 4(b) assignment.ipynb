{
 "cells": [
  {
   "cell_type": "code",
   "execution_count": null,
   "id": "159636eb",
   "metadata": {},
   "outputs": [],
   "source": [
    "#1. Create a 10 variables with your friend names\n"
   ]
  },
  {
   "cell_type": "code",
   "execution_count": 7,
   "id": "e1d5c0a3",
   "metadata": {},
   "outputs": [],
   "source": [
    "name1=\"anitha\"\n",
    "name2=\"vanaja\"\n",
    "name3=\"sivadevi\"\n",
    "name4=\"prasanna\"\n",
    "name5=\"vanitha\"\n",
    "name6=\"anusha\"\n",
    "name7=\"poojitha\"\n",
    "name8=\"sruthi\"\n",
    "name9=\"mamatha\"\n",
    "name10=\"manasa\"\n",
    "\n"
   ]
  },
  {
   "cell_type": "code",
   "execution_count": 8,
   "id": "ca51e917",
   "metadata": {},
   "outputs": [
    {
     "name": "stdout",
     "output_type": "stream",
     "text": [
      "my friend_name are,anitha,vanaja,sivadevi,prasanna,vanitha,anusha,poojitha,sruthi,mamatha,manasa\n"
     ]
    }
   ],
   "source": [
    "print(\"my friend_name are\",name1,name2,name3,name4,name5,name6,name7,name8,name9,name10,sep=\",\")"
   ]
  },
  {
   "cell_type": "code",
   "execution_count": 23,
   "id": "4db530b6",
   "metadata": {},
   "outputs": [],
   "source": [
    "#2. Create a 10 variables with your family member names?\n"
   ]
  },
  {
   "cell_type": "code",
   "execution_count": 9,
   "id": "b26fe775",
   "metadata": {},
   "outputs": [],
   "source": [
    "name1=\"venkataraju\"\n",
    "name2=\"dhanalakshmi\"\n",
    "name3=\"gopalakrishna\"\n",
    "name4=\"dasaradharamayya\"\n",
    "name5=\"nagedhramma\"\n",
    "name6=\"bhogiraju\"\n",
    "name7=\"nagajyothi\"\n",
    "name8=\"lakshamana\"\n",
    "name9=\"umadevi\"\n",
    "name10=\"poojitha\""
   ]
  },
  {
   "cell_type": "code",
   "execution_count": 10,
   "id": "4c5259b9",
   "metadata": {},
   "outputs": [
    {
     "name": "stdout",
     "output_type": "stream",
     "text": [
      "my family_members are,venkataraju,dhanalakshmi,gopalakrishna,dasaradharamayya,nagedhramma,bhogiraju,nagajyothi,lakshamana,umadevi,poojitha\n"
     ]
    }
   ],
   "source": [
    "print(\"my family_members are\",name1,name2,name3,name4,name5,name6,name7,name8,name9,name10,sep=\",\")"
   ]
  },
  {
   "cell_type": "code",
   "execution_count": null,
   "id": "50cd0baf",
   "metadata": {},
   "outputs": [],
   "source": [
    "#3. Create a 10 variables with favorite food names?\n"
   ]
  },
  {
   "cell_type": "code",
   "execution_count": 12,
   "id": "3be0bdc3",
   "metadata": {},
   "outputs": [],
   "source": [
    "name1=\"pongal\"\n",
    "name2=\"pulihora\"\n",
    "name3=\"chakkarapongal\"\n",
    "name4=\"papputomato\"\n",
    "name5=\"pesaradosa\"\n",
    "name6=\"fiderice\"\n",
    "name7=\"chickenbiryani\"\n",
    "name8=\"chickenfry\"\n",
    "name9=\"potatochipics\"\n",
    "name10=\"muttonbiryani\""
   ]
  },
  {
   "cell_type": "code",
   "execution_count": 13,
   "id": "81ce2c0d",
   "metadata": {},
   "outputs": [
    {
     "name": "stdout",
     "output_type": "stream",
     "text": [
      "my favorite food names are,pongal,pulihora,chakkarapongal,papputomato,pesaradosa,fiderice,chickenbiryani,chickenfry,potatochipics,muttonbiryani\n"
     ]
    }
   ],
   "source": [
    "print(\"my favorite food names are\",name1,name2,name3,name4,name5,name6,name7,name8,name9,name10,sep=\",\")"
   ]
  },
  {
   "cell_type": "code",
   "execution_count": null,
   "id": "22125def",
   "metadata": {},
   "outputs": [],
   "source": [
    "#4. Create a 10 variables with colour  names?\n"
   ]
  },
  {
   "cell_type": "code",
   "execution_count": 15,
   "id": "25718c5e",
   "metadata": {},
   "outputs": [],
   "source": [
    "colour1=\"white\"\n",
    "colour2=\"red\"\n",
    "colour3=\"pink\"\n",
    "colour4=\"blue\"\n",
    "colour5=\"green\"\n",
    "colour6=\"orange\"\n",
    "colour7=\"black\"\n",
    "colour8=\"brown\"\n",
    "colour9=\"grey\"\n",
    "colour10=\"yellow\"\n"
   ]
  },
  {
   "cell_type": "code",
   "execution_count": 16,
   "id": "e492599e",
   "metadata": {},
   "outputs": [
    {
     "name": "stdout",
     "output_type": "stream",
     "text": [
      "colour names are,white,red,pink,blue,green,orange,black,brown,grey,yellow\n"
     ]
    }
   ],
   "source": [
    "print(\"colour names are\",colour1,colour2,colour3,colour4,colour5,colour6,colour7,colour8,colour9,colour10,sep=\",\")"
   ]
  },
  {
   "cell_type": "code",
   "execution_count": null,
   "id": "b64b9949",
   "metadata": {},
   "outputs": [],
   "source": [
    "#5. Create a 12 variables with month  names?\n"
   ]
  },
  {
   "cell_type": "code",
   "execution_count": 18,
   "id": "85d6d359",
   "metadata": {},
   "outputs": [],
   "source": [
    "name1=\"january\"\n",
    "name2=\"february\"\n",
    "name3=\"march\"\n",
    "name4=\"april\"\n",
    "name5=\"may\"\n",
    "name6=\"june\"\n",
    "name7=\"july\"\n",
    "name8=\"august\"\n",
    "name9=\"septomber\"\n",
    "name10=\"october\"\n",
    "name11=\"november\"\n",
    "name12=\"december\""
   ]
  },
  {
   "cell_type": "code",
   "execution_count": 19,
   "id": "728a81f4",
   "metadata": {},
   "outputs": [
    {
     "name": "stdout",
     "output_type": "stream",
     "text": [
      "month_namesare,january,february,march,april,may,june,july,august,septomber,october,november,december\n"
     ]
    }
   ],
   "source": [
    "print(\"month_namesare\",name1,name2,name3,name4,name5,name6,name7,name8,name9,name10,name11,name12,sep=\",\")"
   ]
  },
  {
   "cell_type": "code",
   "execution_count": null,
   "id": "375712ab",
   "metadata": {},
   "outputs": [],
   "source": [
    "#6. Create a 10 variables with game  names?\n"
   ]
  },
  {
   "cell_type": "code",
   "execution_count": 21,
   "id": "5bcac71b",
   "metadata": {},
   "outputs": [],
   "source": [
    "name1=\"cricket\"\n",
    "name2=\"kabaddi\"\n",
    "name3=\"hockey\"\n",
    "name4=\"chess\"\n",
    "name5=\"football\"\n",
    "name6=\"ragbi\"\n",
    "name7=\"tennis\"\n",
    "name8=\"coco\"\n",
    "name9=\"loodo\"\n",
    "name10=\"vallyball\""
   ]
  },
  {
   "cell_type": "code",
   "execution_count": 22,
   "id": "101c31b1",
   "metadata": {},
   "outputs": [
    {
     "name": "stdout",
     "output_type": "stream",
     "text": [
      "game names are,cricket,kabaddi,hockey,chess,football,ragbi,tennis,coco,loodo,vallyball\n"
     ]
    }
   ],
   "source": [
    "print(\"game names are\",name1,name2,name3,name4,name5,name6,name7,name8,name9,name10,sep=\",\")"
   ]
  },
  {
   "cell_type": "code",
   "execution_count": null,
   "id": "972f4eb2",
   "metadata": {},
   "outputs": [],
   "source": [
    "#7. Create a 10 variables with city  names?\n"
   ]
  },
  {
   "cell_type": "code",
   "execution_count": 30,
   "id": "ed45fef0",
   "metadata": {},
   "outputs": [],
   "source": [
    "name1=\"vijayawada\"\n",
    "name2=\"hyderabad\"\n",
    "name3=\"chennai\"\n",
    "name4=\"bangalore\"\n",
    "name5=\"mubbai\"\n",
    "name6=\"goa\"\n",
    "name7=\"pune\"\n",
    "name8=\"buvanesware\"\n",
    "name9=\"jyipuru\"\n",
    "name10=\"boopal\""
   ]
  },
  {
   "cell_type": "code",
   "execution_count": 31,
   "id": "df577f6c",
   "metadata": {},
   "outputs": [
    {
     "name": "stdout",
     "output_type": "stream",
     "text": [
      "city name are,vijayawada,hyderabad,chennai,bangalore,mubbai,goa,pune,buvanesware,jyipuru,boopal\n"
     ]
    }
   ],
   "source": [
    "print(\"city name are\",name1,name2,name3,name4,name5,name6,name7,name8,name9,name10,sep=\",\")"
   ]
  },
  {
   "cell_type": "code",
   "execution_count": null,
   "id": "2c71d6b5",
   "metadata": {},
   "outputs": [],
   "source": [
    "#8. Createfr a list (friend_names) with your friend names (10 names)?\n"
   ]
  },
  {
   "cell_type": "code",
   "execution_count": 20,
   "id": "83459a91",
   "metadata": {},
   "outputs": [],
   "source": [
    "list=[\"anitha\",\"vanaja\",\"prasanna\",\"sivadevi\",\"vanitha\",\"anusha\",\"poojitha\",\"sruthi\",\"mamaatha\",\"manasa\"]"
   ]
  },
  {
   "cell_type": "code",
   "execution_count": 21,
   "id": "996badb7",
   "metadata": {},
   "outputs": [
    {
     "name": "stdout",
     "output_type": "stream",
     "text": [
      "['anitha', 'vanaja', 'prasanna', 'sivadevi', 'vanitha', 'anusha', 'poojitha', 'sruthi', 'mamaatha', 'manasa']\n"
     ]
    }
   ],
   "source": [
    "print(list)"
   ]
  },
  {
   "cell_type": "code",
   "execution_count": null,
   "id": "ac8d845c",
   "metadata": {},
   "outputs": [],
   "source": [
    "#9. Create a tuple (family_members) with your family members?\n"
   ]
  },
  {
   "cell_type": "code",
   "execution_count": 22,
   "id": "05258cd3",
   "metadata": {},
   "outputs": [],
   "source": [
    "tuple=(\"venkataraju\",\"dhanalakshmi\",\"gopalakrishna\",\"dasaradharamayya\",\"nagedhramma\",\"bhogiraju\",\"nagajyothi\",\"lakshamana\",\"umadevi\",\"poojitha\")"
   ]
  },
  {
   "cell_type": "code",
   "execution_count": 23,
   "id": "4cd9f7cb",
   "metadata": {},
   "outputs": [
    {
     "name": "stdout",
     "output_type": "stream",
     "text": [
      "('venkataraju', 'dhanalakshmi', 'gopalakrishna', 'dasaradharamayya', 'nagedhramma', 'bhogiraju', 'nagajyothi', 'lakshamana', 'umadevi', 'poojitha')\n"
     ]
    }
   ],
   "source": [
    "print(tuple)"
   ]
  },
  {
   "cell_type": "code",
   "execution_count": null,
   "id": "9137a529",
   "metadata": {},
   "outputs": [],
   "source": [
    "#10. Create a set (colours) with colour names(10 names)?\n"
   ]
  },
  {
   "cell_type": "code",
   "execution_count": 24,
   "id": "4ea099fe",
   "metadata": {},
   "outputs": [],
   "source": [
    "set={\"white\",\"yellow\",\"black\",\"red\",\"orange\",\"brown\",\"blue\",\"pink\",\"green\",\"grey\"}"
   ]
  },
  {
   "cell_type": "code",
   "execution_count": 25,
   "id": "9d27ea7e",
   "metadata": {},
   "outputs": [
    {
     "name": "stdout",
     "output_type": "stream",
     "text": [
      "{'grey', 'blue', 'white', 'pink', 'red', 'yellow', 'green', 'orange', 'brown', 'black'}\n"
     ]
    }
   ],
   "source": [
    "print(set)"
   ]
  },
  {
   "cell_type": "code",
   "execution_count": null,
   "id": "7e77ecb7",
   "metadata": {},
   "outputs": [],
   "source": [
    "#11. month_names=[1,9,10,5,3,2,7,8,6,4] , sort the list--> write a program?\n"
   ]
  },
  {
   "cell_type": "code",
   "execution_count": 4,
   "id": "999e7760",
   "metadata": {},
   "outputs": [],
   "source": [
    "month_names={1,9,10,5,3,2,7,8,6,4}"
   ]
  },
  {
   "cell_type": "code",
   "execution_count": 5,
   "id": "90a24fc6",
   "metadata": {},
   "outputs": [
    {
     "name": "stdout",
     "output_type": "stream",
     "text": [
      "{1, 2, 3, 4, 5, 6, 7, 8, 9, 10}\n"
     ]
    }
   ],
   "source": [
    "print(month_names)"
   ]
  },
  {
   "cell_type": "code",
   "execution_count": 6,
   "id": "65f0824e",
   "metadata": {},
   "outputs": [],
   "source": [
    "# 12. tollywood_heros=[\"chiru\", \"balaya\", \"nag\",\"venky\",\"powerstar\",\"superstar\",\"ntr\",\"ramcharan\"], write a program?\n",
    "# expected output:tollywood_heros=[\"chiranjeevi\", \"balakrishan\", \"nagarjuna\",\"venky\",\"pawan kalyan\",\"maheshbabu\",\"NT rama rao\",\"ramcharan\"]"
   ]
  },
  {
   "cell_type": "code",
   "execution_count": 10,
   "id": "cd35d49c",
   "metadata": {},
   "outputs": [],
   "source": [
    "tollywood_heros=[\"chiru\", \"balaya\", \"nag\",\"venky\",\"powerstar\",\"superstar\",\"ntr\",\"ramcharan\"]"
   ]
  },
  {
   "cell_type": "code",
   "execution_count": 11,
   "id": "c97fe550",
   "metadata": {},
   "outputs": [],
   "source": [
    "tollywood_heros[0]=(\"chiranjeevi\")\n",
    "tollywood_heros[1]=(\"balakrishna\")\n",
    "tollywood_heros[2]=(\"nagarjuna\")\n",
    "tollywood_heros[3]=(\"venkatesh\")\n",
    "tollywood_heros[4]=(\"pawnkalyan\")\n",
    "tollywood_heros[5]=(\"maheshbabu\")\n",
    "tollywood_heros[6]=(\"nt rama rao\")\n",
    "tollywood_heros[7]=(\"ramcharan\")"
   ]
  },
  {
   "cell_type": "code",
   "execution_count": 6,
   "id": "62452105",
   "metadata": {},
   "outputs": [
    {
     "name": "stdout",
     "output_type": "stream",
     "text": [
      "['chiranjeevi', 'balakrishna', 'nagarjuna', 'venkatesh', 'pawnkalyan', 'maheshbabu', 'nt rama rao', 'ramcharan']\n"
     ]
    }
   ],
   "source": [
    "print(tollywood_heros)"
   ]
  },
  {
   "cell_type": "code",
   "execution_count": 7,
   "id": "d982a197",
   "metadata": {},
   "outputs": [],
   "source": [
    "# 13. bollywood_heros=[\"sharukkhan\", \"salmankhan\", \"salmankhan\",\"amirkhan\",\"HrithikRoshan\",\"Amitabh Bachchan\",\"Akshay Kumar\",\"amirkhan\"], write a program to remove duplicates?"
   ]
  },
  {
   "cell_type": "code",
   "execution_count": 35,
   "id": "0c404215",
   "metadata": {},
   "outputs": [],
   "source": [
    "bollywood_heros=[\"sharukkhan\", \"salmankhan\", \"salmankhan\",\"amirkhan\",\"HrithikRoshan\",\"Amitabh Bachchan\",\"Akshay Kumar\",\"amirkhan\"]"
   ]
  },
  {
   "cell_type": "code",
   "execution_count": 37,
   "id": "d411f483",
   "metadata": {},
   "outputs": [],
   "source": [
    " bollywood_heros={\"sharukkhan\", \"salmankhan\", \"salmankhan\",\"amirkhan\",\"HrithikRoshan\",\"Amitabh Bachchan\",\"Akshay Kumar\",\"amirkh\"}"
   ]
  },
  {
   "cell_type": "code",
   "execution_count": 38,
   "id": "cb1dbce2",
   "metadata": {},
   "outputs": [
    {
     "name": "stdout",
     "output_type": "stream",
     "text": [
      "{'sharukkhan', 'amirkh', 'Akshay Kumar', 'Amitabh Bachchan', 'salmankhan', 'HrithikRoshan', 'amirkhan'}\n"
     ]
    }
   ],
   "source": [
    "print(bollywood_heros)"
   ]
  },
  {
   "cell_type": "code",
   "execution_count": null,
   "id": "cae35425",
   "metadata": {},
   "outputs": [],
   "source": [
    "#14. breakfast_items=[\"upma\",\"dosa\",\"idly\",\"puri\",\"punugulu\",\"roti\",\"chapathi\", \"parota\",\"mysoor baji\",\"minapa baji\"], print your favorite breakfast itme?\n",
    "example: My Favorite breakfast time is mysoor baji\n"
   ]
  },
  {
   "cell_type": "code",
   "execution_count": 39,
   "id": "dc229792",
   "metadata": {},
   "outputs": [],
   "source": [
    " breakfast_items=[\"upma\",\"dosa\",\"idly\",\"puri\",\"punugulu\",\"roti\",\"chapathi\", \"parota\",\"mysoor baji\",\"minapa baji\"]"
   ]
  },
  {
   "cell_type": "code",
   "execution_count": 42,
   "id": "33d7d3a1",
   "metadata": {},
   "outputs": [
    {
     "name": "stdout",
     "output_type": "stream",
     "text": [
      "my favorite breakfast item is chapathi\n"
     ]
    }
   ],
   "source": [
    "print(\"my favorite breakfast item is\",breakfast_items[-4])"
   ]
  }
 ],
 "metadata": {
  "kernelspec": {
   "display_name": "Python 3 (ipykernel)",
   "language": "python",
   "name": "python3"
  },
  "language_info": {
   "codemirror_mode": {
    "name": "ipython",
    "version": 3
   },
   "file_extension": ".py",
   "mimetype": "text/x-python",
   "name": "python",
   "nbconvert_exporter": "python",
   "pygments_lexer": "ipython3",
   "version": "3.10.9"
  }
 },
 "nbformat": 4,
 "nbformat_minor": 5
}
